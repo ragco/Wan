{
 "cells": [
  {
   "cell_type": "markdown",
   "id": "680b037f",
   "metadata": {},
   "source": [
    "# selection sort"
   ]
  },
  {
   "cell_type": "code",
   "execution_count": 1,
   "id": "881edcba",
   "metadata": {},
   "outputs": [
    {
     "name": "stdout",
     "output_type": "stream",
     "text": [
      "Enter the elements of the array separated by space: 40 20 60 10 50 30\n",
      "Sorted array is: [10, 20, 30, 40, 50, 60]\n"
     ]
    }
   ],
   "source": [
    "# Define a function for selection sort\n",
    "def selection_sort(arr):\n",
    "    n = len(arr)  # Get the length of the array\n",
    "    for i in range(n):\n",
    "        # Find the minimum element in the remaining unsorted array\n",
    "        min_idx = i  # Assume the current element is the minimum\n",
    "        for j in range(i + 1, n):  # Iterate over the unsorted portion of the array\n",
    "            if arr[j] < arr[min_idx]:  # If we find a smaller element\n",
    "                min_idx = j  # Update the index of the minimum element\n",
    "        \n",
    "        # Swap the found minimum element with the first element\n",
    "        arr[i], arr[min_idx] = arr[min_idx], arr[i]  # Swap elements at positions i and min_idx\n",
    "    return arr  # Return the sorted array\n",
    "\n",
    "# Take array input from the user\n",
    "arr = input(\"Enter the elements of the array separated by space: \").split()  # Input array elements as strings\n",
    "arr = [int(x) for x in arr]  # Convert input strings to integers\n",
    "\n",
    "sorted_arr = selection_sort(arr)  # Call selection_sort function to sort the array\n",
    "print(\"Sorted array is:\", sorted_arr)  # Print the sorted array\n"
   ]
  },
  {
   "cell_type": "markdown",
   "id": "4c3ad82a",
   "metadata": {},
   "source": [
    "# kruskal algorithm"
   ]
  },
  {
   "cell_type": "code",
   "execution_count": null,
   "id": "d14ca42d",
   "metadata": {},
   "outputs": [],
   "source": []
  },
  {
   "cell_type": "code",
   "execution_count": 2,
   "id": "289ecbef",
   "metadata": {},
   "outputs": [
    {
     "name": "stdout",
     "output_type": "stream",
     "text": [
      "Edge : Weight\n",
      "\n",
      "2-3:1\n",
      "3-4:1\n",
      "1-4:2\n",
      "0-2:5\n"
     ]
    }
   ],
   "source": [
    "# Number of vertices in the graph\n",
    "N = 5\n",
    "# Creating graph by adjacency matrix method\n",
    "G = [[0, 19, 5, 0, 0],\n",
    "     [19, 0, 5, 9, 2],\n",
    "     [5, 5, 0, 1, 6],\n",
    "     [0, 9, 1, 0, 1],\n",
    "     [0, 2, 6, 1, 0]]\n",
    "\n",
    "# Function to find the parent of a vertex using path compression\n",
    "def find_parent(parent, i):#path compression is a technique used to optimize the process of finding the parent of a vertex within a disjoint-set forest \n",
    "    if parent[i] == i:\n",
    "        return i\n",
    "    return find_parent(parent, parent[i])\n",
    "\n",
    "# Function to merge two sets represented by their parent vertices\n",
    "def union(parent, rank, x, y):\n",
    "    x_root = find_parent(parent, x)\n",
    "    y_root = find_parent(parent, y)\n",
    "\n",
    "    if rank[x_root] < rank[y_root]:\n",
    "        parent[x_root] = y_root\n",
    "    elif rank[x_root] > rank[y_root]:\n",
    "        parent[y_root] = x_root\n",
    "    else:\n",
    "        parent[y_root] = x_root\n",
    "        rank[x_root] += 1\n",
    "\n",
    "# Kruskal's algorithm to find minimum spanning tree\n",
    "def kruskal(G):\n",
    "    edges = []\n",
    "    N = len(G)\n",
    "    # Extracting all edges from the graph\n",
    "    for i in range(N):\n",
    "        for j in range(i + 1, N):\n",
    "            if G[i][j] != 0:\n",
    "                edges.append((i, j, G[i][j]))\n",
    "    # Sorting all edges based on their weight\n",
    "    edges.sort(key=lambda x: x[2])\n",
    "\n",
    "    parent = [i for i in range(N)]  # Array to store parent of each vertex\n",
    "    rank = [0] * N  # Array to store rank of each vertex\n",
    "\n",
    "    mst_edges = []  # List to store edges of the minimum spanning tree\n",
    "\n",
    "    for edge in edges:\n",
    "        u, v, weight = edge\n",
    "        if find_parent(parent, u) != find_parent(parent, v):\n",
    "            mst_edges.append(edge)\n",
    "            union(parent, rank, u, v)\n",
    "\n",
    "    return mst_edges\n",
    "\n",
    "# Finding minimum spanning tree\n",
    "mst_edges = kruskal(G)\n",
    "\n",
    "# Printing the minimum spanning tree edges\n",
    "print(\"Edge : Weight\\n\")\n",
    "for edge in mst_edges:\n",
    "    u, v, weight = edge\n",
    "    print(f\"{u}-{v}:{weight}\")\n"
   ]
  },
  {
   "cell_type": "markdown",
   "id": "7e14c760",
   "metadata": {},
   "source": [
    "# dijkstras algorithm"
   ]
  },
  {
   "cell_type": "code",
   "execution_count": null,
   "id": "59057dff",
   "metadata": {},
   "outputs": [],
   "source": []
  },
  {
   "cell_type": "code",
   "execution_count": 4,
   "id": "1a99d940",
   "metadata": {},
   "outputs": [
    {
     "name": "stdout",
     "output_type": "stream",
     "text": [
      "Shortest distances from vertex A : {'A': 0, 'B': 5, 'C': 3, 'D': 6}\n"
     ]
    }
   ],
   "source": [
    "import heapq\n",
    "# Importing the heapq module, which provides heap-based priority queue implementation.\n",
    "\n",
    "def dijkstra(graph, start):\n",
    "    # Defining a function named dijkstra which takes a graph and a starting vertex as input.\n",
    "    \n",
    "    distances = {vertex: float('inf') for vertex in graph}\n",
    "    # Initializing a dictionary to store the shortest distances from the start vertex to all other vertices. \n",
    "    # Initially, all distances are set to infinity.\n",
    "    \n",
    "    distances[start] = 0\n",
    "    # The distance from the start vertex to itself is set to 0.\n",
    "\n",
    "    pq = [(0, start)]\n",
    "    # Creating a priority queue (heap) to store vertices and their corresponding distances.\n",
    "    # Initially, it contains a tuple with distance 0 and the start vertex.\n",
    "    \n",
    "    while pq:\n",
    "        # Starting a while loop that continues until the priority queue is not empty.\n",
    "        \n",
    "        dist_u, u = heapq.heappop(pq)\n",
    "        # Extracting the vertex with the smallest distance from the priority queue.\n",
    "        # 'heappop' removes and returns the smallest element from the heap.\n",
    "        # 'dist_u' is the distance to vertex 'u'.\n",
    "        \n",
    "        if dist_u > distances[u]:\n",
    "            continue\n",
    "        # If the extracted distance is greater than the known shortest distance to 'u', skip this iteration.\n",
    "        # This is an optimization to avoid unnecessary processing.\n",
    "\n",
    "        for v, weight in graph[u].items():\n",
    "            # Iterating over the neighbors of vertex 'u' along with the weights of the edges.\n",
    "            \n",
    "            dist_v = distances[u] + weight\n",
    "            # Calculating the tentative distance to 'v' through 'u'.\n",
    "            \n",
    "            if dist_v < distances[v]:\n",
    "                # If the calculated distance is less than the current known shortest distance to 'v'.\n",
    "                \n",
    "                distances[v] = dist_v\n",
    "                # Update the shortest distance to 'v' with the newly calculated distance.\n",
    "                \n",
    "                heapq.heappush(pq, (dist_v, v))\n",
    "                # Push the updated distance and vertex 'v' to the priority queue.\n",
    "                # 'heappush' adds the element to the heap and maintains the heap property.\n",
    "    \n",
    "    return distances\n",
    "    # Return the dictionary containing the shortest distances from the start vertex to all other vertices.\n",
    "\n",
    "# Example usage:\n",
    "graph = {\n",
    "    'A': {'B': 5, 'C': 3},\n",
    "    'B': {'A': 5, 'C': 2, 'D': 1},\n",
    "    'C': {'A': 3, 'B': 2, 'D': 6},\n",
    "    'D': {'B': 1, 'C': 6}\n",
    "}\n",
    "# Defining an example graph represented as a dictionary of dictionaries.\n",
    "\n",
    "start_vertex = 'A'\n",
    "# Defining the start vertex for Dijkstra's algorithm.\n",
    "\n",
    "shortest_distances = dijkstra(graph, start_vertex)\n",
    "# Calling the dijkstra function with the graph and start vertex to compute the shortest distances.\n",
    "\n",
    "print(\"Shortest distances from vertex\", start_vertex, \":\", shortest_distances)\n",
    "# Printing the shortest distances from the start vertex to all other vertices.\n"
   ]
  },
  {
   "cell_type": "markdown",
   "id": "36dd831e",
   "metadata": {},
   "source": [
    "# fcfs algorithm"
   ]
  },
  {
   "cell_type": "code",
   "execution_count": 11,
   "id": "cfb62408",
   "metadata": {},
   "outputs": [
    {
     "name": "stdout",
     "output_type": "stream",
     "text": [
      "Start Time = 0, End Time = 6\n",
      "Start Time = 6, End Time = 14\n",
      "Start Time = 14, End Time = 21\n",
      "Start Time = 21, End Time = 24\n",
      "Start Time = 24, End Time = 29\n"
     ]
    }
   ],
   "source": [
    "def fcfs(jobs):\n",
    "    # Sort jobs based on their arrival times\n",
    "    jobs.sort(key=lambda x: x[0])\n",
    "\n",
    "    schedule = []\n",
    "\n",
    "    current_time = 0\n",
    "    for arrival_time, burst_time in jobs:\n",
    "        # Determine the start time of the job (maximum of current time and arrival time)\n",
    "        start_time = max(current_time, arrival_time)\n",
    "        # Determine the end time of the job\n",
    "        end_time = start_time + burst_time\n",
    "        # Append job details to the schedule\n",
    "        schedule.append((start_time, end_time))\n",
    "        # Update current time to the end time of the current job\n",
    "        current_time = end_time\n",
    "\n",
    "    return schedule\n",
    "\n",
    "# Example usage:\n",
    "jobs = [(0, 6), (1, 8), (2, 7), (3, 3), (4, 5)]  # (arrival_time, burst_time)\n",
    "job_schedule = fcfs(jobs)\n",
    "for start_time, end_time in job_schedule:\n",
    "    print(f\"Start Time = {start_time}, End Time = {end_time}\")"
   ]
  },
  {
   "cell_type": "markdown",
   "id": "60d1e151",
   "metadata": {},
   "source": [
    "# prims algorithm"
   ]
  },
  {
   "cell_type": "code",
   "execution_count": null,
   "id": "caa01857",
   "metadata": {},
   "outputs": [],
   "source": []
  },
  {
   "cell_type": "code",
   "execution_count": 3,
   "id": "4e3787dc",
   "metadata": {},
   "outputs": [
    {
     "name": "stdout",
     "output_type": "stream",
     "text": [
      "Edge : Weight\n",
      "\n",
      "0-2:5\n",
      "2-3:1\n",
      "3-4:1\n",
      "4-1:2\n"
     ]
    }
   ],
   "source": [
    "# Set a large number to represent infinity\n",
    "INF = 9999999\n",
    "\n",
    "# Number of vertices in the graph\n",
    "N = 5\n",
    "\n",
    "# Creating the graph using an adjacency matrix\n",
    "G = [[0, 19, 5, 0, 0],\n",
    "     [19, 0, 5, 9, 2],\n",
    "     [5, 5, 0, 1, 6],\n",
    "     [0, 9, 1, 0, 1],\n",
    "     [0, 2, 6, 1, 0]]\n",
    "\n",
    "# Keep track of which nodes are selected in the MST\n",
    "selected_node = [0, 0, 0, 0, 0]\n",
    "\n",
    "# Keep track of the number of edges added to the MST\n",
    "no_edge = 0\n",
    "\n",
    "# Initially, mark the first node as selected\n",
    "selected_node[0] = True\n",
    "\n",
    "# Print the header for the output\n",
    "print(\"Edge : Weight\\n\")\n",
    "\n",
    "# Continue until all vertices are included in the MST\n",
    "while(no_edge < N - 1):\n",
    "    # Initialize minimum weight to infinity\n",
    "    minimum = INF\n",
    "    a = 0\n",
    "    b = 0\n",
    "    # Iterate over each selected node\n",
    "    for m in range(N):\n",
    "        if selected_node[m]:\n",
    "            # Iterate over each unselected node adjacent to the selected node\n",
    "            for n in range(N):\n",
    "                if((not selected_node[n]) and G[m][n]):\n",
    "                    # If the weight of the edge is less than the current minimum, update minimum and store the vertices\n",
    "                    if minimum > G[m][n]:\n",
    "                        minimum = G[m][n]\n",
    "                        a = m\n",
    "                        b = n\n",
    "    # Print the edge and its weight\n",
    "    print(str(a) + \"-\" + str(b) + \":\" + str(G[a][b]))\n",
    "    # Mark the newly connected node as selected\n",
    "    selected_node[b] = True\n",
    "    # Increment the count of edges added\n",
    "    no_edge += 1\n"
   ]
  },
  {
   "cell_type": "code",
   "execution_count": null,
   "id": "272a94e7",
   "metadata": {},
   "outputs": [],
   "source": []
  }
 ],
 "metadata": {
  "kernelspec": {
   "display_name": "Python 3 (ipykernel)",
   "language": "python",
   "name": "python3"
  },
  "language_info": {
   "codemirror_mode": {
    "name": "ipython",
    "version": 3
   },
   "file_extension": ".py",
   "mimetype": "text/x-python",
   "name": "python",
   "nbconvert_exporter": "python",
   "pygments_lexer": "ipython3",
   "version": "3.10.9"
  }
 },
 "nbformat": 4,
 "nbformat_minor": 5
}
